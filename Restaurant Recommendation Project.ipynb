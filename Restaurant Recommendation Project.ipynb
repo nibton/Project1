{
 "cells": [
  {
   "cell_type": "markdown",
   "metadata": {},
   "source": [
    "# Restaurant Recommendation Project\n",
    "\n",
    "Objective of this project is to use Content based Filtering to recommend a restaurant in Bangalore using User's preferences in location, cuisine, cost of two."
   ]
  },
  {
   "cell_type": "markdown",
   "metadata": {},
   "source": [
    "###  We will work on Zomato Bangalore Dataset\n",
    "\n",
    "### [Link for the dataset on kaggle](http://https://www.kaggle.com/datasets/absin7/zomato-bangalore-dataset)"
   ]
  },
  {
   "cell_type": "markdown",
   "metadata": {},
   "source": [
    "## Importing libraraies and Data Set"
   ]
  },
  {
   "cell_type": "code",
   "execution_count": 1,
   "metadata": {
    "_cell_guid": "b1076dfc-b9ad-4769-8c92-a6c4dae69d19",
    "_uuid": "8f2839f25d086af736a60e9eeb907d3b93b6e0e5",
    "execution": {
     "iopub.execute_input": "2022-06-13T11:10:03.163191Z",
     "iopub.status.busy": "2022-06-13T11:10:03.162792Z",
     "iopub.status.idle": "2022-06-13T11:10:03.902757Z",
     "shell.execute_reply": "2022-06-13T11:10:03.901843Z",
     "shell.execute_reply.started": "2022-06-13T11:10:03.163096Z"
    }
   },
   "outputs": [
    {
     "name": "stdout",
     "output_type": "stream",
     "text": [
      "Libraries Imported.\n"
     ]
    }
   ],
   "source": [
    "import pandas as pd\n",
    "import numpy as np\n",
    "import matplotlib.pyplot as plt\n",
    "import seaborn as sns\n",
    "%matplotlib inline\n",
    "import plotly.graph_objs as go\n",
    "import plotly.offline as py\n",
    "import warnings \n",
    "warnings.filterwarnings('ignore')\n",
    "\n",
    "print('Libraries Imported.')"
   ]
  },
  {
   "cell_type": "markdown",
   "metadata": {},
   "source": [
    "### Importing Zomato Bangalore DataSet"
   ]
  },
  {
   "cell_type": "markdown",
   "metadata": {},
   "source": [
    "## About the features in the dataset :\n",
    "\n",
    "`URL` = contains the URL of the restaurant on the zomato website\n",
    "\n",
    "`address` = contains the address of the restaurant in Bengaluru\n",
    "\n",
    "`name` = contains the name of the restaurant\n",
    "\n",
    "`online_order` = whether online ordering is available in the restaurant or not\n",
    "\n",
    "`book_table` = table book option available or not\n",
    "\n",
    "`rate` = contains the overall rating of the restaurant out of 5\n",
    "\n",
    "`votes` = contains total number of rating for the restaurant as of the above-mentioned date\n",
    "\n",
    "`phone` = contains the phone number of the restaurant\n",
    "\n",
    "`location` = contains the neighborhood in which the restaurant is located\n",
    "\n",
    "`rest_type` = restaurant type\n",
    "\n",
    "`dish_liked` = dishes people liked in the restaurant\n",
    "\n",
    "`cuisines` = food styles, separated by a comma\n",
    "\n",
    "`approx_cost(for two people)` = contains the approximate cost for a meal for two people\n",
    "\n",
    "`reviews_list` = list of tuples containing reviews for the restaurant, each tuple consists of two values"
   ]
  },
  {
   "cell_type": "markdown",
   "metadata": {},
   "source": [
    "To find restaurants to recommend, our approach would be to use the reviews of the restaurant and apply sentiment analysis on that. Then using these sentiment scores we can rank restaurants and recommend the ones that fit the constarints set by the user."
   ]
  },
  {
   "cell_type": "markdown",
   "metadata": {},
   "source": [
    "### We have already conducted sentiment Analysis on the reviews on a different notebook. So we will load that data set here and work on that. \n",
    "\n",
    "#### [Link for the Sentiment analysis Notebook](https://www.kaggle.com/code/gagandeepsinghbindra/sentiment-analysis-part-for-recommendation-project)\n",
    "\n",
    "Sentiment_scores = contains the sentiment score based on reviews left for the restaurant. Range is -1(most negative) to +1(most positive)\n",
    "cleaned_reviews = conatins the cleaned reviews of the restaurant in one paragraph"
   ]
  },
  {
   "cell_type": "code",
   "execution_count": 2,
   "metadata": {
    "execution": {
     "iopub.execute_input": "2022-06-13T11:10:03.904726Z",
     "iopub.status.busy": "2022-06-13T11:10:03.904466Z",
     "iopub.status.idle": "2022-06-13T11:10:29.624671Z",
     "shell.execute_reply": "2022-06-13T11:10:29.624014Z",
     "shell.execute_reply.started": "2022-06-13T11:10:03.904697Z"
    }
   },
   "outputs": [
    {
     "data": {
      "text/html": [
       "<div>\n",
       "<style scoped>\n",
       "    .dataframe tbody tr th:only-of-type {\n",
       "        vertical-align: middle;\n",
       "    }\n",
       "\n",
       "    .dataframe tbody tr th {\n",
       "        vertical-align: top;\n",
       "    }\n",
       "\n",
       "    .dataframe thead th {\n",
       "        text-align: right;\n",
       "    }\n",
       "</style>\n",
       "<table border=\"1\" class=\"dataframe\">\n",
       "  <thead>\n",
       "    <tr style=\"text-align: right;\">\n",
       "      <th></th>\n",
       "      <th>url</th>\n",
       "      <th>address</th>\n",
       "      <th>name</th>\n",
       "      <th>online_order</th>\n",
       "      <th>book_table</th>\n",
       "      <th>rate</th>\n",
       "      <th>votes</th>\n",
       "      <th>phone</th>\n",
       "      <th>location</th>\n",
       "      <th>rest_type</th>\n",
       "      <th>dish_liked</th>\n",
       "      <th>cuisines</th>\n",
       "      <th>approx_cost(for two people)</th>\n",
       "      <th>reviews_list</th>\n",
       "      <th>menu_item</th>\n",
       "      <th>listed_in(type)</th>\n",
       "      <th>listed_in(city)</th>\n",
       "      <th>Sentiment_score</th>\n",
       "      <th>cleaned_reviews</th>\n",
       "    </tr>\n",
       "  </thead>\n",
       "  <tbody>\n",
       "    <tr>\n",
       "      <th>0</th>\n",
       "      <td>https://www.zomato.com/bangalore/jalsa-banasha...</td>\n",
       "      <td>942, 21st Main Road, 2nd Stage, Banashankari, ...</td>\n",
       "      <td>Jalsa</td>\n",
       "      <td>Yes</td>\n",
       "      <td>Yes</td>\n",
       "      <td>4.1/5</td>\n",
       "      <td>775</td>\n",
       "      <td>080 42297555\\r\\n+91 9743772233</td>\n",
       "      <td>Banashankari</td>\n",
       "      <td>Casual Dining</td>\n",
       "      <td>Pasta, Lunch Buffet, Masala Papad, Paneer Laja...</td>\n",
       "      <td>North Indian, Mughlai, Chinese</td>\n",
       "      <td>800</td>\n",
       "      <td>[('Rated 4.0', 'RATED\\n  A beautiful place to ...</td>\n",
       "      <td>[]</td>\n",
       "      <td>Buffet</td>\n",
       "      <td>Banashankari</td>\n",
       "      <td>0.350449</td>\n",
       "      <td>a beautiful place to dine in the interiors tak...</td>\n",
       "    </tr>\n",
       "    <tr>\n",
       "      <th>1</th>\n",
       "      <td>https://www.zomato.com/bangalore/spice-elephan...</td>\n",
       "      <td>2nd Floor, 80 Feet Road, Near Big Bazaar, 6th ...</td>\n",
       "      <td>Spice Elephant</td>\n",
       "      <td>Yes</td>\n",
       "      <td>No</td>\n",
       "      <td>4.1/5</td>\n",
       "      <td>787</td>\n",
       "      <td>080 41714161</td>\n",
       "      <td>Banashankari</td>\n",
       "      <td>Casual Dining</td>\n",
       "      <td>Momos, Lunch Buffet, Chocolate Nirvana, Thai G...</td>\n",
       "      <td>Chinese, North Indian, Thai</td>\n",
       "      <td>800</td>\n",
       "      <td>[('Rated 4.0', 'RATED\\n  Had been here for din...</td>\n",
       "      <td>[]</td>\n",
       "      <td>Buffet</td>\n",
       "      <td>Banashankari</td>\n",
       "      <td>0.206022</td>\n",
       "      <td>had been here for dinner with family turned ou...</td>\n",
       "    </tr>\n",
       "    <tr>\n",
       "      <th>2</th>\n",
       "      <td>https://www.zomato.com/SanchurroBangalore?cont...</td>\n",
       "      <td>1112, Next to KIMS Medical College, 17th Cross...</td>\n",
       "      <td>San Churro Cafe</td>\n",
       "      <td>Yes</td>\n",
       "      <td>No</td>\n",
       "      <td>3.8/5</td>\n",
       "      <td>918</td>\n",
       "      <td>+91 9663487993</td>\n",
       "      <td>Banashankari</td>\n",
       "      <td>Cafe, Casual Dining</td>\n",
       "      <td>Churros, Cannelloni, Minestrone Soup, Hot Choc...</td>\n",
       "      <td>Cafe, Mexican, Italian</td>\n",
       "      <td>800</td>\n",
       "      <td>[('Rated 3.0', \"RATED\\n  Ambience is not that ...</td>\n",
       "      <td>[]</td>\n",
       "      <td>Buffet</td>\n",
       "      <td>Banashankari</td>\n",
       "      <td>0.199841</td>\n",
       "      <td>ambience is not that good enough and it s not ...</td>\n",
       "    </tr>\n",
       "    <tr>\n",
       "      <th>3</th>\n",
       "      <td>https://www.zomato.com/bangalore/addhuri-udupi...</td>\n",
       "      <td>1st Floor, Annakuteera, 3rd Stage, Banashankar...</td>\n",
       "      <td>Addhuri Udupi Bhojana</td>\n",
       "      <td>No</td>\n",
       "      <td>No</td>\n",
       "      <td>3.7/5</td>\n",
       "      <td>88</td>\n",
       "      <td>+91 9620009302</td>\n",
       "      <td>Banashankari</td>\n",
       "      <td>Quick Bites</td>\n",
       "      <td>Masala Dosa</td>\n",
       "      <td>South Indian, North Indian</td>\n",
       "      <td>300</td>\n",
       "      <td>[('Rated 4.0', \"RATED\\n  Great food and proper...</td>\n",
       "      <td>[]</td>\n",
       "      <td>Buffet</td>\n",
       "      <td>Banashankari</td>\n",
       "      <td>0.245714</td>\n",
       "      <td>great food and proper karnataka style full mea...</td>\n",
       "    </tr>\n",
       "    <tr>\n",
       "      <th>4</th>\n",
       "      <td>https://www.zomato.com/bangalore/grand-village...</td>\n",
       "      <td>10, 3rd Floor, Lakshmi Associates, Gandhi Baza...</td>\n",
       "      <td>Grand Village</td>\n",
       "      <td>No</td>\n",
       "      <td>No</td>\n",
       "      <td>3.8/5</td>\n",
       "      <td>166</td>\n",
       "      <td>+91 8026612447\\r\\n+91 9901210005</td>\n",
       "      <td>Basavanagudi</td>\n",
       "      <td>Casual Dining</td>\n",
       "      <td>Panipuri, Gol Gappe</td>\n",
       "      <td>North Indian, Rajasthani</td>\n",
       "      <td>600</td>\n",
       "      <td>[('Rated 4.0', 'RATED\\n  Very good restaurant ...</td>\n",
       "      <td>[]</td>\n",
       "      <td>Buffet</td>\n",
       "      <td>Banashankari</td>\n",
       "      <td>0.434280</td>\n",
       "      <td>very good restaurant in neighbourhood buffet s...</td>\n",
       "    </tr>\n",
       "  </tbody>\n",
       "</table>\n",
       "</div>"
      ],
      "text/plain": [
       "                                                 url  \\\n",
       "0  https://www.zomato.com/bangalore/jalsa-banasha...   \n",
       "1  https://www.zomato.com/bangalore/spice-elephan...   \n",
       "2  https://www.zomato.com/SanchurroBangalore?cont...   \n",
       "3  https://www.zomato.com/bangalore/addhuri-udupi...   \n",
       "4  https://www.zomato.com/bangalore/grand-village...   \n",
       "\n",
       "                                             address                   name  \\\n",
       "0  942, 21st Main Road, 2nd Stage, Banashankari, ...                  Jalsa   \n",
       "1  2nd Floor, 80 Feet Road, Near Big Bazaar, 6th ...         Spice Elephant   \n",
       "2  1112, Next to KIMS Medical College, 17th Cross...        San Churro Cafe   \n",
       "3  1st Floor, Annakuteera, 3rd Stage, Banashankar...  Addhuri Udupi Bhojana   \n",
       "4  10, 3rd Floor, Lakshmi Associates, Gandhi Baza...          Grand Village   \n",
       "\n",
       "  online_order book_table   rate  votes                             phone  \\\n",
       "0          Yes        Yes  4.1/5    775    080 42297555\\r\\n+91 9743772233   \n",
       "1          Yes         No  4.1/5    787                      080 41714161   \n",
       "2          Yes         No  3.8/5    918                    +91 9663487993   \n",
       "3           No         No  3.7/5     88                    +91 9620009302   \n",
       "4           No         No  3.8/5    166  +91 8026612447\\r\\n+91 9901210005   \n",
       "\n",
       "       location            rest_type  \\\n",
       "0  Banashankari        Casual Dining   \n",
       "1  Banashankari        Casual Dining   \n",
       "2  Banashankari  Cafe, Casual Dining   \n",
       "3  Banashankari          Quick Bites   \n",
       "4  Basavanagudi        Casual Dining   \n",
       "\n",
       "                                          dish_liked  \\\n",
       "0  Pasta, Lunch Buffet, Masala Papad, Paneer Laja...   \n",
       "1  Momos, Lunch Buffet, Chocolate Nirvana, Thai G...   \n",
       "2  Churros, Cannelloni, Minestrone Soup, Hot Choc...   \n",
       "3                                        Masala Dosa   \n",
       "4                                Panipuri, Gol Gappe   \n",
       "\n",
       "                         cuisines approx_cost(for two people)  \\\n",
       "0  North Indian, Mughlai, Chinese                         800   \n",
       "1     Chinese, North Indian, Thai                         800   \n",
       "2          Cafe, Mexican, Italian                         800   \n",
       "3      South Indian, North Indian                         300   \n",
       "4        North Indian, Rajasthani                         600   \n",
       "\n",
       "                                        reviews_list menu_item  \\\n",
       "0  [('Rated 4.0', 'RATED\\n  A beautiful place to ...        []   \n",
       "1  [('Rated 4.0', 'RATED\\n  Had been here for din...        []   \n",
       "2  [('Rated 3.0', \"RATED\\n  Ambience is not that ...        []   \n",
       "3  [('Rated 4.0', \"RATED\\n  Great food and proper...        []   \n",
       "4  [('Rated 4.0', 'RATED\\n  Very good restaurant ...        []   \n",
       "\n",
       "  listed_in(type) listed_in(city)  Sentiment_score  \\\n",
       "0          Buffet    Banashankari         0.350449   \n",
       "1          Buffet    Banashankari         0.206022   \n",
       "2          Buffet    Banashankari         0.199841   \n",
       "3          Buffet    Banashankari         0.245714   \n",
       "4          Buffet    Banashankari         0.434280   \n",
       "\n",
       "                                     cleaned_reviews  \n",
       "0  a beautiful place to dine in the interiors tak...  \n",
       "1  had been here for dinner with family turned ou...  \n",
       "2  ambience is not that good enough and it s not ...  \n",
       "3  great food and proper karnataka style full mea...  \n",
       "4  very good restaurant in neighbourhood buffet s...  "
      ]
     },
     "execution_count": 2,
     "metadata": {},
     "output_type": "execute_result"
    }
   ],
   "source": [
    "data=pd.read_csv('Cleaned-Zomato-data-with-sentiment-scores.csv')\n",
    "data.head()"
   ]
  },
  {
   "cell_type": "code",
   "execution_count": 3,
   "metadata": {
    "execution": {
     "iopub.execute_input": "2022-06-13T11:10:29.626317Z",
     "iopub.status.busy": "2022-06-13T11:10:29.625884Z",
     "iopub.status.idle": "2022-06-13T11:10:29.632466Z",
     "shell.execute_reply": "2022-06-13T11:10:29.631509Z",
     "shell.execute_reply.started": "2022-06-13T11:10:29.626282Z"
    }
   },
   "outputs": [
    {
     "data": {
      "text/plain": [
       "(51717, 19)"
      ]
     },
     "execution_count": 3,
     "metadata": {},
     "output_type": "execute_result"
    }
   ],
   "source": [
    "data.shape"
   ]
  },
  {
   "cell_type": "code",
   "execution_count": 4,
   "metadata": {
    "execution": {
     "iopub.execute_input": "2022-06-13T11:10:29.634548Z",
     "iopub.status.busy": "2022-06-13T11:10:29.634232Z",
     "iopub.status.idle": "2022-06-13T11:10:29.769701Z",
     "shell.execute_reply": "2022-06-13T11:10:29.768974Z",
     "shell.execute_reply.started": "2022-06-13T11:10:29.634515Z"
    }
   },
   "outputs": [
    {
     "name": "stdout",
     "output_type": "stream",
     "text": [
      "<class 'pandas.core.frame.DataFrame'>\n",
      "RangeIndex: 51717 entries, 0 to 51716\n",
      "Data columns (total 19 columns):\n",
      " #   Column                       Non-Null Count  Dtype  \n",
      "---  ------                       --------------  -----  \n",
      " 0   url                          51717 non-null  object \n",
      " 1   address                      51717 non-null  object \n",
      " 2   name                         51717 non-null  object \n",
      " 3   online_order                 51717 non-null  object \n",
      " 4   book_table                   51717 non-null  object \n",
      " 5   rate                         43942 non-null  object \n",
      " 6   votes                        51717 non-null  int64  \n",
      " 7   phone                        50509 non-null  object \n",
      " 8   location                     51696 non-null  object \n",
      " 9   rest_type                    51490 non-null  object \n",
      " 10  dish_liked                   23639 non-null  object \n",
      " 11  cuisines                     51672 non-null  object \n",
      " 12  approx_cost(for two people)  51371 non-null  object \n",
      " 13  reviews_list                 51717 non-null  object \n",
      " 14  menu_item                    51717 non-null  object \n",
      " 15  listed_in(type)              51717 non-null  object \n",
      " 16  listed_in(city)              51717 non-null  object \n",
      " 17  Sentiment_score              51717 non-null  float64\n",
      " 18  cleaned_reviews              44117 non-null  object \n",
      "dtypes: float64(1), int64(1), object(17)\n",
      "memory usage: 7.5+ MB\n"
     ]
    }
   ],
   "source": [
    "data.info()"
   ]
  },
  {
   "cell_type": "markdown",
   "metadata": {},
   "source": [
    "### Cleaning Cuisines, Location and cost for two people as it is our main features to be used for selecting restaurants"
   ]
  },
  {
   "cell_type": "markdown",
   "metadata": {},
   "source": [
    "Lets look at the locations in the dataset"
   ]
  },
  {
   "cell_type": "code",
   "execution_count": 5,
   "metadata": {
    "execution": {
     "iopub.execute_input": "2022-06-13T11:10:29.771431Z",
     "iopub.status.busy": "2022-06-13T11:10:29.771002Z",
     "iopub.status.idle": "2022-06-13T11:10:31.483003Z",
     "shell.execute_reply": "2022-06-13T11:10:31.482391Z",
     "shell.execute_reply.started": "2022-06-13T11:10:29.771381Z"
    }
   },
   "outputs": [
    {
     "data": {
      "image/png": "[encoded data removed]",
      "text/plain": [
       "<Figure size 720x1440 with 1 Axes>"
      ]
     },
     "metadata": {
      "needs_background": "light"
     },
     "output_type": "display_data"
    }
   ],
   "source": [
    "fig,ax=plt.subplots(figsize=(10,20))\n",
    "ax.barh(y=data.location.value_counts().sort_values().index,width=data.location.value_counts().sort_values().values,edgecolor='k',color='orange');"
   ]
  },
  {
   "cell_type": "code",
   "execution_count": 6,
   "metadata": {
    "execution": {
     "iopub.execute_input": "2022-06-13T11:10:31.484648Z",
     "iopub.status.busy": "2022-06-13T11:10:31.483960Z",
     "iopub.status.idle": "2022-06-13T11:10:31.495765Z",
     "shell.execute_reply": "2022-06-13T11:10:31.495186Z",
     "shell.execute_reply.started": "2022-06-13T11:10:31.484610Z"
    }
   },
   "outputs": [
    {
     "data": {
      "text/plain": [
       "21"
      ]
     },
     "execution_count": 6,
     "metadata": {},
     "output_type": "execute_result"
    }
   ],
   "source": [
    "#checking number of null values in location column\n",
    "data.location.isna().sum()"
   ]
  },
  {
   "cell_type": "markdown",
   "metadata": {},
   "source": [
    "For these 21 values we will try to see if its address is available in the datatset and impute its location from there"
   ]
  },
  {
   "cell_type": "code",
   "execution_count": 7,
   "metadata": {
    "execution": {
     "iopub.execute_input": "2022-06-13T11:10:31.497432Z",
     "iopub.status.busy": "2022-06-13T11:10:31.496707Z",
     "iopub.status.idle": "2022-06-13T11:10:31.516378Z",
     "shell.execute_reply": "2022-06-13T11:10:31.515472Z",
     "shell.execute_reply.started": "2022-06-13T11:10:31.497393Z"
    }
   },
   "outputs": [
    {
     "data": {
      "text/plain": [
       "['6, Abbiah Layout KC Halli Main Road, Bommanahalli, Bangalore',\n",
       " '6, Abbiah Layout KC Halli Main Road, Bommanahalli, Bangalore',\n",
       " 'Chandapura- Anakal Main Road, Oppsite Vemana Hosipatal, Electronic City, Bangalore',\n",
       " 'Kudlu Gate, Bommanahalli, Bangalore',\n",
       " 'IB Road, Lorry Stand, Kushaal Nagar, Ward 10, Kalyan Nagar, Bangalore',\n",
       " 'Koramangala 8th Block, Bangalore',\n",
       " '6, Kathalipalya Village, 6th Cross, Koramangala 6th Block, Bangalore',\n",
       " '6, Kathalipalya Village, 6th Cross, Koramangala 6th Block, Bangalore',\n",
       " 'Koramangala 8th Block, Bangalore',\n",
       " '6, Kathalipalya Village, 6th Cross, Koramangala 6th Block, Bangalore',\n",
       " '6, Kathalipalya Village, 6th Cross, Koramangala 6th Block, Bangalore',\n",
       " 'Koramangala 8th Block, Bangalore',\n",
       " '80 Feet Road, Koramangala 4th Block, Bangalore',\n",
       " 'Koramangala 8th Block, Bangalore',\n",
       " '399/34, 19th Main, Near Navarang Theatre, 2nd Block, Rajajinagar, Bangalore',\n",
       " '1630, 6th Main Road, AECS Layout E Block, Marathahalli, Bangalore',\n",
       " '1630, 6th Main Road, AECS Layout E Block, Marathahalli, Bangalore',\n",
       " '9, Magadi Main Road, Cholourpalya, Vijay Nagar',\n",
       " 'West of Chord Road, Govindaraja Nagar, Below Hosahalli Metro Station',\n",
       " '399/34, 19th Main, Near Navarang Theatre, 2nd Block, Rajajinagar, Bangalore',\n",
       " '9, Magadi Main Road, Cholourpalya, Vijay Nagar']"
      ]
     },
     "execution_count": 7,
     "metadata": {},
     "output_type": "execute_result"
    }
   ],
   "source": [
    "list(data.address.loc[data.location.isna()])"
   ]
  },
  {
   "cell_type": "markdown",
   "metadata": {},
   "source": [
    "So we see that for such cases we can get the location from the address."
   ]
  },
  {
   "cell_type": "code",
   "execution_count": 8,
   "metadata": {
    "execution": {
     "iopub.execute_input": "2022-06-13T11:10:31.518273Z",
     "iopub.status.busy": "2022-06-13T11:10:31.517850Z",
     "iopub.status.idle": "2022-06-13T11:10:31.543632Z",
     "shell.execute_reply": "2022-06-13T11:10:31.542653Z",
     "shell.execute_reply.started": "2022-06-13T11:10:31.518207Z"
    }
   },
   "outputs": [],
   "source": [
    "list_of_locations=list(data.location.unique())\n",
    "\n",
    "#fucntion that returns the location by searching the words of the address\n",
    "def location_finder(add):\n",
    "    if add is not '':\n",
    "        for x in list_of_locations:\n",
    "            if str(x) in add:\n",
    "                return x\n",
    "\n",
    "#creating a dataframe of empty location cells\n",
    "empty_df=data.loc[data.location.isna()]\n",
    "\n",
    "for i in empty_df.index:\n",
    "    data.at[i,'location']=location_finder(data.address[i])\n"
   ]
  },
  {
   "cell_type": "code",
   "execution_count": 9,
   "metadata": {
    "execution": {
     "iopub.execute_input": "2022-06-13T11:10:31.545582Z",
     "iopub.status.busy": "2022-06-13T11:10:31.545353Z",
     "iopub.status.idle": "2022-06-13T11:10:31.577804Z",
     "shell.execute_reply": "2022-06-13T11:10:31.576916Z",
     "shell.execute_reply.started": "2022-06-13T11:10:31.545556Z"
    }
   },
   "outputs": [
    {
     "data": {
      "text/html": [
       "<div>\n",
       "<style scoped>\n",
       "    .dataframe tbody tr th:only-of-type {\n",
       "        vertical-align: middle;\n",
       "    }\n",
       "\n",
       "    .dataframe tbody tr th {\n",
       "        vertical-align: top;\n",
       "    }\n",
       "\n",
       "    .dataframe thead th {\n",
       "        text-align: right;\n",
       "    }\n",
       "</style>\n",
       "<table border=\"1\" class=\"dataframe\">\n",
       "  <thead>\n",
       "    <tr style=\"text-align: right;\">\n",
       "      <th></th>\n",
       "      <th>url</th>\n",
       "      <th>address</th>\n",
       "      <th>name</th>\n",
       "      <th>online_order</th>\n",
       "      <th>book_table</th>\n",
       "      <th>rate</th>\n",
       "      <th>votes</th>\n",
       "      <th>phone</th>\n",
       "      <th>location</th>\n",
       "      <th>rest_type</th>\n",
       "      <th>dish_liked</th>\n",
       "      <th>cuisines</th>\n",
       "      <th>approx_cost(for two people)</th>\n",
       "      <th>reviews_list</th>\n",
       "      <th>menu_item</th>\n",
       "      <th>listed_in(type)</th>\n",
       "      <th>listed_in(city)</th>\n",
       "      <th>Sentiment_score</th>\n",
       "      <th>cleaned_reviews</th>\n",
       "    </tr>\n",
       "  </thead>\n",
       "  <tbody>\n",
       "    <tr>\n",
       "      <th>46609</th>\n",
       "      <td>https://www.zomato.com/bangalore/grill-biryani...</td>\n",
       "      <td>West of Chord Road, Govindaraja Nagar, Below H...</td>\n",
       "      <td>Grill Biryanis</td>\n",
       "      <td>No</td>\n",
       "      <td>No</td>\n",
       "      <td>NaN</td>\n",
       "      <td>0</td>\n",
       "      <td>NaN</td>\n",
       "      <td>None</td>\n",
       "      <td>NaN</td>\n",
       "      <td>NaN</td>\n",
       "      <td>NaN</td>\n",
       "      <td>NaN</td>\n",
       "      <td>[]</td>\n",
       "      <td>[]</td>\n",
       "      <td>Delivery</td>\n",
       "      <td>Rajajinagar</td>\n",
       "      <td>0.0</td>\n",
       "      <td>NaN</td>\n",
       "    </tr>\n",
       "  </tbody>\n",
       "</table>\n",
       "</div>"
      ],
      "text/plain": [
       "                                                     url  \\\n",
       "46609  https://www.zomato.com/bangalore/grill-biryani...   \n",
       "\n",
       "                                                 address            name  \\\n",
       "46609  West of Chord Road, Govindaraja Nagar, Below H...  Grill Biryanis   \n",
       "\n",
       "      online_order book_table rate  votes phone location rest_type dish_liked  \\\n",
       "46609           No         No  NaN      0   NaN     None       NaN        NaN   \n",
       "\n",
       "      cuisines approx_cost(for two people) reviews_list menu_item  \\\n",
       "46609      NaN                         NaN           []        []   \n",
       "\n",
       "      listed_in(type) listed_in(city)  Sentiment_score cleaned_reviews  \n",
       "46609        Delivery     Rajajinagar              0.0             NaN  "
      ]
     },
     "execution_count": 9,
     "metadata": {},
     "output_type": "execute_result"
    }
   ],
   "source": [
    "data[data.location.isna()]"
   ]
  },
  {
   "cell_type": "markdown",
   "metadata": {},
   "source": [
    "Since Govindraja Nagar is not in list of locations we will add it manually."
   ]
  },
  {
   "cell_type": "code",
   "execution_count": 10,
   "metadata": {
    "execution": {
     "iopub.execute_input": "2022-06-13T11:10:31.580893Z",
     "iopub.status.busy": "2022-06-13T11:10:31.580637Z",
     "iopub.status.idle": "2022-06-13T11:10:31.584839Z",
     "shell.execute_reply": "2022-06-13T11:10:31.584084Z",
     "shell.execute_reply.started": "2022-06-13T11:10:31.580853Z"
    }
   },
   "outputs": [],
   "source": [
    "data.at[46609,'location']='Govindraja Nagar'"
   ]
  },
  {
   "cell_type": "code",
   "execution_count": 11,
   "metadata": {
    "execution": {
     "iopub.execute_input": "2022-06-13T11:10:31.586826Z",
     "iopub.status.busy": "2022-06-13T11:10:31.586227Z",
     "iopub.status.idle": "2022-06-13T11:10:31.607547Z",
     "shell.execute_reply": "2022-06-13T11:10:31.606490Z",
     "shell.execute_reply.started": "2022-06-13T11:10:31.586784Z"
    }
   },
   "outputs": [
    {
     "data": {
      "text/plain": [
       "0"
      ]
     },
     "execution_count": 11,
     "metadata": {},
     "output_type": "execute_result"
    }
   ],
   "source": [
    "data.location.isna().sum()"
   ]
  },
  {
   "cell_type": "markdown",
   "metadata": {},
   "source": [
    "### `location` column is now cleaned\n",
    "\n",
    "Lets look at the ditribution of location again"
   ]
  },
  {
   "cell_type": "code",
   "execution_count": 12,
   "metadata": {
    "execution": {
     "iopub.execute_input": "2022-06-13T11:10:31.609544Z",
     "iopub.status.busy": "2022-06-13T11:10:31.608723Z",
     "iopub.status.idle": "2022-06-13T11:10:33.312858Z",
     "shell.execute_reply": "2022-06-13T11:10:33.311906Z",
     "shell.execute_reply.started": "2022-06-13T11:10:31.609507Z"
    }
   },
   "outputs": [
    {
     "data": {
      "image/png": "[encoded data removed]",
      "text/plain": [
       "<Figure size 720x1440 with 1 Axes>"
      ]
     },
     "metadata": {
      "needs_background": "light"
     },
     "output_type": "display_data"
    }
   ],
   "source": [
    "fig,ax=plt.subplots(figsize=(10,20))\n",
    "ax.barh(y=data.location.value_counts().sort_values().index,width=data.location.value_counts().sort_values().values,edgecolor='k',color='orange')\n",
    "ax.set_title('Location of restaurants in the Bangalore dataset')\n",
    "ax.set_xlabel('Count')\n",
    "ax.set_ylabel('Restaurants');"
   ]
  },
  {
   "cell_type": "markdown",
   "metadata": {},
   "source": [
    "### Cleaning `cuisines` column"
   ]
  },
  {
   "cell_type": "code",
   "execution_count": 13,
   "metadata": {
    "execution": {
     "iopub.execute_input": "2022-06-13T11:10:33.314847Z",
     "iopub.status.busy": "2022-06-13T11:10:33.314442Z",
     "iopub.status.idle": "2022-06-13T11:10:33.328088Z",
     "shell.execute_reply": "2022-06-13T11:10:33.326968Z",
     "shell.execute_reply.started": "2022-06-13T11:10:33.314802Z"
    }
   },
   "outputs": [
    {
     "data": {
      "text/plain": [
       "2724"
      ]
     },
     "execution_count": 13,
     "metadata": {},
     "output_type": "execute_result"
    }
   ],
   "source": [
    "len(data.cuisines.unique())"
   ]
  },
  {
   "cell_type": "code",
   "execution_count": 14,
   "metadata": {
    "execution": {
     "iopub.execute_input": "2022-06-13T11:10:33.330368Z",
     "iopub.status.busy": "2022-06-13T11:10:33.329614Z",
     "iopub.status.idle": "2022-06-13T11:10:33.343101Z",
     "shell.execute_reply": "2022-06-13T11:10:33.342125Z",
     "shell.execute_reply.started": "2022-06-13T11:10:33.330320Z"
    }
   },
   "outputs": [
    {
     "data": {
      "text/plain": [
       "str"
      ]
     },
     "execution_count": 14,
     "metadata": {},
     "output_type": "execute_result"
    }
   ],
   "source": [
    "type(data.cuisines[0])"
   ]
  },
  {
   "cell_type": "code",
   "execution_count": 15,
   "metadata": {
    "execution": {
     "iopub.execute_input": "2022-06-13T11:10:33.344753Z",
     "iopub.status.busy": "2022-06-13T11:10:33.344094Z",
     "iopub.status.idle": "2022-06-13T11:10:33.358410Z",
     "shell.execute_reply": "2022-06-13T11:10:33.357437Z",
     "shell.execute_reply.started": "2022-06-13T11:10:33.344701Z"
    }
   },
   "outputs": [
    {
     "data": {
      "text/plain": [
       "'North Indian, Mughlai, Chinese'"
      ]
     },
     "execution_count": 15,
     "metadata": {},
     "output_type": "execute_result"
    }
   ],
   "source": [
    "data.cuisines[0]"
   ]
  },
  {
   "cell_type": "markdown",
   "metadata": {},
   "source": [
    "Converting string to a list of strings so that we can see the unique values in this column"
   ]
  },
  {
   "cell_type": "code",
   "execution_count": 16,
   "metadata": {
    "execution": {
     "iopub.execute_input": "2022-06-13T11:10:33.360625Z",
     "iopub.status.busy": "2022-06-13T11:10:33.360137Z",
     "iopub.status.idle": "2022-06-13T11:10:33.370039Z",
     "shell.execute_reply": "2022-06-13T11:10:33.369403Z",
     "shell.execute_reply.started": "2022-06-13T11:10:33.360578Z"
    }
   },
   "outputs": [],
   "source": [
    "def str_to_lst(row):\n",
    "    return [x.strip() for x in str(row).split(',')]"
   ]
  },
  {
   "cell_type": "code",
   "execution_count": 17,
   "metadata": {
    "execution": {
     "iopub.execute_input": "2022-06-13T11:10:33.371990Z",
     "iopub.status.busy": "2022-06-13T11:10:33.371528Z",
     "iopub.status.idle": "2022-06-13T11:10:33.589621Z",
     "shell.execute_reply": "2022-06-13T11:10:33.588617Z",
     "shell.execute_reply.started": "2022-06-13T11:10:33.371943Z"
    }
   },
   "outputs": [],
   "source": [
    "cuisines_copy=data.cuisines.apply(str_to_lst)"
   ]
  },
  {
   "cell_type": "code",
   "execution_count": 18,
   "metadata": {
    "execution": {
     "iopub.execute_input": "2022-06-13T11:10:33.591122Z",
     "iopub.status.busy": "2022-06-13T11:10:33.590851Z",
     "iopub.status.idle": "2022-06-13T11:10:33.601927Z",
     "shell.execute_reply": "2022-06-13T11:10:33.600961Z",
     "shell.execute_reply.started": "2022-06-13T11:10:33.591089Z"
    }
   },
   "outputs": [
    {
     "data": {
      "text/plain": [
       "0                [North Indian, Mughlai, Chinese]\n",
       "1                   [Chinese, North Indian, Thai]\n",
       "2                        [Cafe, Mexican, Italian]\n",
       "3                    [South Indian, North Indian]\n",
       "4                      [North Indian, Rajasthani]\n",
       "                           ...                   \n",
       "51712                               [Continental]\n",
       "51713                               [Finger Food]\n",
       "51714                               [Finger Food]\n",
       "51715                               [Finger Food]\n",
       "51716    [Finger Food, North Indian, Continental]\n",
       "Name: cuisines, Length: 51717, dtype: object"
      ]
     },
     "execution_count": 18,
     "metadata": {},
     "output_type": "execute_result"
    }
   ],
   "source": [
    "cuisines_copy"
   ]
  },
  {
   "cell_type": "markdown",
   "metadata": {},
   "source": [
    "### Finding unique values in cuisines"
   ]
  },
  {
   "cell_type": "code",
   "execution_count": 19,
   "metadata": {
    "execution": {
     "iopub.execute_input": "2022-06-13T11:10:33.603919Z",
     "iopub.status.busy": "2022-06-13T11:10:33.603593Z",
     "iopub.status.idle": "2022-06-13T11:10:33.668282Z",
     "shell.execute_reply": "2022-06-13T11:10:33.667126Z",
     "shell.execute_reply.started": "2022-06-13T11:10:33.603865Z"
    }
   },
   "outputs": [],
   "source": [
    "set_of_cuisines=set()\n",
    "\n",
    "def accumulator(lst):\n",
    "    for x in lst:\n",
    "        set_of_cuisines.add(x.strip())\n",
    "\n",
    "cuisines_copy.apply(accumulator);"
   ]
  },
  {
   "cell_type": "code",
   "execution_count": 20,
   "metadata": {
    "execution": {
     "iopub.execute_input": "2022-06-13T11:10:33.670214Z",
     "iopub.status.busy": "2022-06-13T11:10:33.669826Z",
     "iopub.status.idle": "2022-06-13T11:10:33.677722Z",
     "shell.execute_reply": "2022-06-13T11:10:33.676864Z",
     "shell.execute_reply.started": "2022-06-13T11:10:33.670180Z"
    }
   },
   "outputs": [
    {
     "data": {
      "text/plain": [
       "{'Afghan',\n",
       " 'Afghani',\n",
       " 'African',\n",
       " 'American',\n",
       " 'Andhra',\n",
       " 'Arabian',\n",
       " 'Asian',\n",
       " 'Assamese',\n",
       " 'Australian',\n",
       " 'Awadhi',\n",
       " 'BBQ',\n",
       " 'Bakery',\n",
       " 'Bar Food',\n",
       " 'Belgian',\n",
       " 'Bengali',\n",
       " 'Beverages',\n",
       " 'Bihari',\n",
       " 'Biryani',\n",
       " 'Bohri',\n",
       " 'British',\n",
       " 'Bubble Tea',\n",
       " 'Burger',\n",
       " 'Burmese',\n",
       " 'Cafe',\n",
       " 'Cantonese',\n",
       " 'Charcoal Chicken',\n",
       " 'Chettinad',\n",
       " 'Chinese',\n",
       " 'Coffee',\n",
       " 'Continental',\n",
       " 'Desserts',\n",
       " 'Drinks Only',\n",
       " 'European',\n",
       " 'Fast Food',\n",
       " 'Finger Food',\n",
       " 'French',\n",
       " 'German',\n",
       " 'Goan',\n",
       " 'Greek',\n",
       " 'Grill',\n",
       " 'Gujarati',\n",
       " 'Healthy Food',\n",
       " 'Hot dogs',\n",
       " 'Hyderabadi',\n",
       " 'Ice Cream',\n",
       " 'Indian',\n",
       " 'Indonesian',\n",
       " 'Iranian',\n",
       " 'Italian',\n",
       " 'Japanese',\n",
       " 'Jewish',\n",
       " 'Juices',\n",
       " 'Kashmiri',\n",
       " 'Kebab',\n",
       " 'Kerala',\n",
       " 'Konkan',\n",
       " 'Korean',\n",
       " 'Lebanese',\n",
       " 'Lucknowi',\n",
       " 'Maharashtrian',\n",
       " 'Malaysian',\n",
       " 'Malwani',\n",
       " 'Mangalorean',\n",
       " 'Mediterranean',\n",
       " 'Mexican',\n",
       " 'Middle Eastern',\n",
       " 'Mithai',\n",
       " 'Modern Indian',\n",
       " 'Momos',\n",
       " 'Mongolian',\n",
       " 'Mughlai',\n",
       " 'Naga',\n",
       " 'Nepalese',\n",
       " 'North Eastern',\n",
       " 'North Indian',\n",
       " 'Oriya',\n",
       " 'Paan',\n",
       " 'Pan Asian',\n",
       " 'Parsi',\n",
       " 'Pizza',\n",
       " 'Portuguese',\n",
       " 'Rajasthani',\n",
       " 'Raw Meats',\n",
       " 'Roast Chicken',\n",
       " 'Rolls',\n",
       " 'Russian',\n",
       " 'Salad',\n",
       " 'Sandwich',\n",
       " 'Seafood',\n",
       " 'Sindhi',\n",
       " 'Singaporean',\n",
       " 'South American',\n",
       " 'South Indian',\n",
       " 'Spanish',\n",
       " 'Sri Lankan',\n",
       " 'Steak',\n",
       " 'Street Food',\n",
       " 'Sushi',\n",
       " 'Tamil',\n",
       " 'Tea',\n",
       " 'Tex-Mex',\n",
       " 'Thai',\n",
       " 'Tibetan',\n",
       " 'Turkish',\n",
       " 'Vegan',\n",
       " 'Vietnamese',\n",
       " 'Wraps',\n",
       " 'nan'}"
      ]
     },
     "execution_count": 20,
     "metadata": {},
     "output_type": "execute_result"
    }
   ],
   "source": [
    "set_of_cuisines"
   ]
  },
  {
   "cell_type": "code",
   "execution_count": 21,
   "metadata": {
    "execution": {
     "iopub.execute_input": "2022-06-13T11:10:33.679874Z",
     "iopub.status.busy": "2022-06-13T11:10:33.679382Z",
     "iopub.status.idle": "2022-06-13T11:10:33.693653Z",
     "shell.execute_reply": "2022-06-13T11:10:33.692939Z",
     "shell.execute_reply.started": "2022-06-13T11:10:33.679829Z"
    }
   },
   "outputs": [
    {
     "data": {
      "text/plain": [
       "108"
      ]
     },
     "execution_count": 21,
     "metadata": {},
     "output_type": "execute_result"
    }
   ],
   "source": [
    "len(set_of_cuisines)"
   ]
  },
  {
   "cell_type": "markdown",
   "metadata": {},
   "source": [
    "We will now bin these 108 cuisines into the following categories:\n",
    "\n",
    "1. Afghani\n",
    "2. Western\n",
    "3. Thai and Tibetian\n",
    "4. Beverages\n",
    "5. South Indian\n",
    "6. Fast Food\n",
    "7. Desserts\n",
    "8. Chicken, Biryani and Kababs\n",
    "9. Bengali\n",
    "10. Pizza\n",
    "11. International\n",
    "12. North Indian\n",
    "13. Chinese\n",
    "14. Western Indian Cuisines\n",
    "15. Maharastrian food\n",
    "16. North Eastern\n",
    "17. Seafood"
   ]
  },
  {
   "cell_type": "code",
   "execution_count": 22,
   "metadata": {
    "execution": {
     "iopub.execute_input": "2022-06-13T11:10:33.695431Z",
     "iopub.status.busy": "2022-06-13T11:10:33.695012Z",
     "iopub.status.idle": "2022-06-13T11:10:33.711583Z",
     "shell.execute_reply": "2022-06-13T11:10:33.710765Z",
     "shell.execute_reply.started": "2022-06-13T11:10:33.695392Z"
    }
   },
   "outputs": [],
   "source": [
    "#making a custom function to replace multiple substrings simultaneously\n",
    "def replace_all(lst,strng,text):\n",
    "    for i in lst:\n",
    "        text = text.replace(i, strng)\n",
    "    return text\n"
   ]
  },
  {
   "cell_type": "code",
   "execution_count": 23,
   "metadata": {
    "execution": {
     "iopub.execute_input": "2022-06-13T11:10:33.713187Z",
     "iopub.status.busy": "2022-06-13T11:10:33.712836Z",
     "iopub.status.idle": "2022-06-13T11:10:35.239653Z",
     "shell.execute_reply": "2022-06-13T11:10:35.238688Z",
     "shell.execute_reply.started": "2022-06-13T11:10:33.713150Z"
    }
   },
   "outputs": [],
   "source": [
    "\n",
    "def cuisines_binning(text):\n",
    "    text=str(text)\n",
    "    text=replace_all(['Raw Meats','Salad','Sri Lankan','Tex-Mex','Vegan'],'',text)\n",
    "    text=replace_all(['Afghan','Afghani','Mughlai'],'Afghani',text)\n",
    "    text=replace_all(['African','American','British','European','South American','Spanish','Steak'],'Western',text)\n",
    "    text=replace_all(['Thai','Tibetan'],'Thai and Tibetian',text)\n",
    "    text=replace_all(['Bar Food','Beverages','Bubble Tea','Coffee','Drinks Only','Juices','Tea'],'Beverages',text)\n",
    "    text=replace_all(['Andhra','Chettinad','Kerala','Oriya','South Indian','Tamil'],'South Indian',text)\n",
    "    text=replace_all(['BBQ','Burger','Cafe','Fast Food','Finger Food','Healthy Food','Hot dogs','Momos','Rolls','Sandwich','Street Food','Wraps'],'Fast Food',text)\n",
    "    text=replace_all(['Bakery','Desserts','Ice Cream','Mithai','Paan',],'Deserts',text)\n",
    "    text=replace_all(['Biryani','Charcoal Chicken','Grill','Kebab','Roast Chicken'],'Chicken, Biryani and Kebabs',text)\n",
    "    text=replace_all(['Bengali'],'Bengali',text)\n",
    "    text=replace_all(['Pizza','Italian'],'Pizza',text)\n",
    "    text=replace_all(['Arabian','Asian','Assamese','Australian','Belgian','Burmese','Cantonese','Continental','French','German','Greek','Indonesian','Iranian','Japanese','Jewish','Korean','Lebanese','Malaysian','Mangalorean','Mediterranean','Mexican','Middle Eastern','Mongolian','Pan Asian','Portuguese','Russian','Singaporean','Sushi','Turkish','Vietnamese'],'International',text)\n",
    "    text=replace_all(['Bihari','Kashmiri','Lucknowi','Modern Indian','North Indian'],'North Indian',text)\n",
    "    text=replace_all(['Naga','Nepalese','North Eastern'],'North Eastern',text)\n",
    "    text=replace_all(['Chinese'],'Chinese',text)\n",
    "    text=replace_all(['Awadhi','Bohri','Goan','Gujarati','Hyderabadi','Parsi','Rajasthani','Sindhi',],'Western Indian',text)\n",
    "    text=replace_all(['Konkan','Maharashtrian','Malwani'],'Maharastrian Food',text)\n",
    "    text=replace_all(['Seafood'],'Seafood',text)\n",
    "    \n",
    "    #Removing duplicates and cleaning text further\n",
    "    text.replace(' ,','')\n",
    "    lst=text.split(', ')\n",
    "    return ' '.join(list(set(lst))).strip()\n",
    "\n",
    "\n",
    "data.cuisines=data.cuisines.apply(cuisines_binning)"
   ]
  },
  {
   "cell_type": "code",
   "execution_count": 24,
   "metadata": {
    "execution": {
     "iopub.execute_input": "2022-06-13T11:10:35.241350Z",
     "iopub.status.busy": "2022-06-13T11:10:35.241001Z",
     "iopub.status.idle": "2022-06-13T11:10:35.249419Z",
     "shell.execute_reply": "2022-06-13T11:10:35.248501Z",
     "shell.execute_reply.started": "2022-06-13T11:10:35.241308Z"
    }
   },
   "outputs": [
    {
     "data": {
      "text/plain": [
       "0                North Indian Chinese Afghani\n",
       "1      North Indian Chinese Thai and Tibetian\n",
       "2               International Pizza Fast Food\n",
       "3                   North Indian South Indian\n",
       "4                 North Indian Western Indian\n",
       "5                                North Indian\n",
       "6           North Indian Chinese South Indian\n",
       "7                             Pizza Fast Food\n",
       "8               International Pizza Fast Food\n",
       "9     International Pizza Beverages Fast Food\n",
       "10                                  Fast Food\n",
       "11              International Pizza Fast Food\n",
       "12      International Chinese Fast Food Pizza\n",
       "13                    International Fast Food\n",
       "14              International Pizza Fast Food\n",
       "15                                  Fast Food\n",
       "16            International Chinese Fast Food\n",
       "17                    Chinese Fast Food Pizza\n",
       "18                    Pizza Western Fast Food\n",
       "19      International Chinese Fast Food Pizza\n",
       "Name: cuisines, dtype: object"
      ]
     },
     "execution_count": 24,
     "metadata": {},
     "output_type": "execute_result"
    }
   ],
   "source": [
    "data.cuisines[:20]"
   ]
  },
  {
   "cell_type": "markdown",
   "metadata": {},
   "source": [
    "`cuisines` is now cleaned."
   ]
  },
  {
   "cell_type": "code",
   "execution_count": 25,
   "metadata": {
    "execution": {
     "iopub.execute_input": "2022-06-13T11:10:35.251446Z",
     "iopub.status.busy": "2022-06-13T11:10:35.250915Z",
     "iopub.status.idle": "2022-06-13T11:10:35.262547Z",
     "shell.execute_reply": "2022-06-13T11:10:35.261517Z",
     "shell.execute_reply.started": "2022-06-13T11:10:35.251412Z"
    }
   },
   "outputs": [],
   "source": [
    "def strng_to_lst(row):\n",
    "    return()"
   ]
  },
  {
   "cell_type": "markdown",
   "metadata": {},
   "source": [
    "### Cleaning `approx_cost(for two people)`"
   ]
  },
  {
   "cell_type": "code",
   "execution_count": 26,
   "metadata": {
    "execution": {
     "iopub.execute_input": "2022-06-13T11:10:35.265087Z",
     "iopub.status.busy": "2022-06-13T11:10:35.264671Z",
     "iopub.status.idle": "2022-06-13T11:10:35.280807Z",
     "shell.execute_reply": "2022-06-13T11:10:35.280184Z",
     "shell.execute_reply.started": "2022-06-13T11:10:35.265037Z"
    }
   },
   "outputs": [
    {
     "data": {
      "text/plain": [
       "0          800\n",
       "1          800\n",
       "2          800\n",
       "3          300\n",
       "4          600\n",
       "         ...  \n",
       "51712    1,500\n",
       "51713      600\n",
       "51714    2,000\n",
       "51715    2,500\n",
       "51716    1,500\n",
       "Name: approx_cost(for two people), Length: 51717, dtype: object"
      ]
     },
     "execution_count": 26,
     "metadata": {},
     "output_type": "execute_result"
    }
   ],
   "source": [
    "data['approx_cost(for two people)']"
   ]
  },
  {
   "cell_type": "markdown",
   "metadata": {},
   "source": [
    "Converting to float and removing commas"
   ]
  },
  {
   "cell_type": "code",
   "execution_count": 27,
   "metadata": {
    "execution": {
     "iopub.execute_input": "2022-06-13T11:10:35.283071Z",
     "iopub.status.busy": "2022-06-13T11:10:35.282100Z",
     "iopub.status.idle": "2022-06-13T11:10:35.349650Z",
     "shell.execute_reply": "2022-06-13T11:10:35.348648Z",
     "shell.execute_reply.started": "2022-06-13T11:10:35.282997Z"
    }
   },
   "outputs": [],
   "source": [
    "data['approx_cost(for two people)']=data['approx_cost(for two people)'].str.replace(',','').astype(float)"
   ]
  },
  {
   "cell_type": "code",
   "execution_count": 28,
   "metadata": {
    "execution": {
     "iopub.execute_input": "2022-06-13T11:10:35.353978Z",
     "iopub.status.busy": "2022-06-13T11:10:35.353710Z",
     "iopub.status.idle": "2022-06-13T11:10:35.362435Z",
     "shell.execute_reply": "2022-06-13T11:10:35.361621Z",
     "shell.execute_reply.started": "2022-06-13T11:10:35.353947Z"
    }
   },
   "outputs": [
    {
     "data": {
      "text/plain": [
       "0         800.0\n",
       "1         800.0\n",
       "2         800.0\n",
       "3         300.0\n",
       "4         600.0\n",
       "          ...  \n",
       "51712    1500.0\n",
       "51713     600.0\n",
       "51714    2000.0\n",
       "51715    2500.0\n",
       "51716    1500.0\n",
       "Name: approx_cost(for two people), Length: 51717, dtype: float64"
      ]
     },
     "execution_count": 28,
     "metadata": {},
     "output_type": "execute_result"
    }
   ],
   "source": [
    "data['approx_cost(for two people)']"
   ]
  },
  {
   "cell_type": "code",
   "execution_count": 29,
   "metadata": {
    "execution": {
     "iopub.execute_input": "2022-06-13T11:10:35.364144Z",
     "iopub.status.busy": "2022-06-13T11:10:35.363402Z",
     "iopub.status.idle": "2022-06-13T11:10:35.628094Z",
     "shell.execute_reply": "2022-06-13T11:10:35.627263Z",
     "shell.execute_reply.started": "2022-06-13T11:10:35.364107Z"
    }
   },
   "outputs": [
    {
     "data": {
      "image/png": "[encoded data removed]",
      "text/plain": [
       "<Figure size 576x432 with 1 Axes>"
      ]
     },
     "metadata": {
      "needs_background": "light"
     },
     "output_type": "display_data"
    }
   ],
   "source": [
    "fig,ax=plt.subplots(figsize=(8,6))\n",
    "ax.hist(data['approx_cost(for two people)'],edgecolor='k',bins=10)\n",
    "ax.set_xlim((0,3500))\n",
    "ax.set_title('Cost for 2 People')\n",
    "ax.set_xlabel('Cost in rupees')\n",
    "ax.set_ylabel('Number of Restaurants');"
   ]
  },
  {
   "cell_type": "markdown",
   "metadata": {},
   "source": [
    "### Converting rate and votes to numeric datatype"
   ]
  },
  {
   "cell_type": "code",
   "execution_count": 30,
   "metadata": {
    "execution": {
     "iopub.execute_input": "2022-06-13T11:10:35.629600Z",
     "iopub.status.busy": "2022-06-13T11:10:35.629356Z",
     "iopub.status.idle": "2022-06-13T11:10:35.641172Z",
     "shell.execute_reply": "2022-06-13T11:10:35.640204Z",
     "shell.execute_reply.started": "2022-06-13T11:10:35.629571Z"
    }
   },
   "outputs": [
    {
     "data": {
      "text/plain": [
       "array(['4.1/5', '3.8/5', '3.7/5', '3.6/5', '4.6/5', '4.0/5', '4.2/5',\n",
       "       '3.9/5', '3.1/5', '3.0/5', '3.2/5', '3.3/5', '2.8/5', '4.4/5',\n",
       "       '4.3/5', 'NEW', '2.9/5', '3.5/5', nan, '2.6/5', '3.8 /5', '3.4/5',\n",
       "       '4.5/5', '2.5/5', '2.7/5', '4.7/5', '2.4/5', '2.2/5', '2.3/5',\n",
       "       '3.4 /5', '-', '3.6 /5', '4.8/5', '3.9 /5', '4.2 /5', '4.0 /5',\n",
       "       '4.1 /5', '3.7 /5', '3.1 /5', '2.9 /5', '3.3 /5', '2.8 /5',\n",
       "       '3.5 /5', '2.7 /5', '2.5 /5', '3.2 /5', '2.6 /5', '4.5 /5',\n",
       "       '4.3 /5', '4.4 /5', '4.9/5', '2.1/5', '2.0/5', '1.8/5', '4.6 /5',\n",
       "       '4.9 /5', '3.0 /5', '4.8 /5', '2.3 /5', '4.7 /5', '2.4 /5',\n",
       "       '2.1 /5', '2.2 /5', '2.0 /5', '1.8 /5'], dtype=object)"
      ]
     },
     "execution_count": 30,
     "metadata": {},
     "output_type": "execute_result"
    }
   ],
   "source": [
    "data.rate.unique()"
   ]
  },
  {
   "cell_type": "code",
   "execution_count": 31,
   "metadata": {
    "execution": {
     "iopub.execute_input": "2022-06-13T11:10:35.642673Z",
     "iopub.status.busy": "2022-06-13T11:10:35.642452Z",
     "iopub.status.idle": "2022-06-13T11:10:35.732272Z",
     "shell.execute_reply": "2022-06-13T11:10:35.731375Z",
     "shell.execute_reply.started": "2022-06-13T11:10:35.642646Z"
    }
   },
   "outputs": [],
   "source": [
    "data.rate=data.rate.str.replace('/5','').replace('NEW','0').replace('-','0').astype(float).fillna(0)"
   ]
  },
  {
   "cell_type": "code",
   "execution_count": 32,
   "metadata": {
    "execution": {
     "iopub.execute_input": "2022-06-13T11:10:35.734232Z",
     "iopub.status.busy": "2022-06-13T11:10:35.733756Z",
     "iopub.status.idle": "2022-06-13T11:10:35.739442Z",
     "shell.execute_reply": "2022-06-13T11:10:35.738617Z",
     "shell.execute_reply.started": "2022-06-13T11:10:35.734198Z"
    }
   },
   "outputs": [],
   "source": [
    "data.votes=data.votes.astype(float)"
   ]
  },
  {
   "cell_type": "code",
   "execution_count": 33,
   "metadata": {
    "execution": {
     "iopub.execute_input": "2022-06-13T11:10:35.741617Z",
     "iopub.status.busy": "2022-06-13T11:10:35.741375Z",
     "iopub.status.idle": "2022-06-13T11:10:35.784385Z",
     "shell.execute_reply": "2022-06-13T11:10:35.783417Z",
     "shell.execute_reply.started": "2022-06-13T11:10:35.741589Z"
    }
   },
   "outputs": [
    {
     "data": {
      "text/html": [
       "<div>\n",
       "<style scoped>\n",
       "    .dataframe tbody tr th:only-of-type {\n",
       "        vertical-align: middle;\n",
       "    }\n",
       "\n",
       "    .dataframe tbody tr th {\n",
       "        vertical-align: top;\n",
       "    }\n",
       "\n",
       "    .dataframe thead th {\n",
       "        text-align: right;\n",
       "    }\n",
       "</style>\n",
       "<table border=\"1\" class=\"dataframe\">\n",
       "  <thead>\n",
       "    <tr style=\"text-align: right;\">\n",
       "      <th></th>\n",
       "      <th>url</th>\n",
       "      <th>address</th>\n",
       "      <th>name</th>\n",
       "      <th>online_order</th>\n",
       "      <th>book_table</th>\n",
       "      <th>rate</th>\n",
       "      <th>votes</th>\n",
       "      <th>phone</th>\n",
       "      <th>location</th>\n",
       "      <th>rest_type</th>\n",
       "      <th>dish_liked</th>\n",
       "      <th>cuisines</th>\n",
       "      <th>approx_cost(for two people)</th>\n",
       "      <th>reviews_list</th>\n",
       "      <th>menu_item</th>\n",
       "      <th>listed_in(type)</th>\n",
       "      <th>listed_in(city)</th>\n",
       "      <th>Sentiment_score</th>\n",
       "      <th>cleaned_reviews</th>\n",
       "    </tr>\n",
       "  </thead>\n",
       "  <tbody>\n",
       "    <tr>\n",
       "      <th>0</th>\n",
       "      <td>https://www.zomato.com/bangalore/jalsa-banasha...</td>\n",
       "      <td>942, 21st Main Road, 2nd Stage, Banashankari, ...</td>\n",
       "      <td>Jalsa</td>\n",
       "      <td>Yes</td>\n",
       "      <td>Yes</td>\n",
       "      <td>4.1</td>\n",
       "      <td>775.0</td>\n",
       "      <td>080 42297555\\r\\n+91 9743772233</td>\n",
       "      <td>Banashankari</td>\n",
       "      <td>Casual Dining</td>\n",
       "      <td>Pasta, Lunch Buffet, Masala Papad, Paneer Laja...</td>\n",
       "      <td>North Indian Chinese Afghani</td>\n",
       "      <td>800.0</td>\n",
       "      <td>[('Rated 4.0', 'RATED\\n  A beautiful place to ...</td>\n",
       "      <td>[]</td>\n",
       "      <td>Buffet</td>\n",
       "      <td>Banashankari</td>\n",
       "      <td>0.350449</td>\n",
       "      <td>a beautiful place to dine in the interiors tak...</td>\n",
       "    </tr>\n",
       "    <tr>\n",
       "      <th>1</th>\n",
       "      <td>https://www.zomato.com/bangalore/spice-elephan...</td>\n",
       "      <td>2nd Floor, 80 Feet Road, Near Big Bazaar, 6th ...</td>\n",
       "      <td>Spice Elephant</td>\n",
       "      <td>Yes</td>\n",
       "      <td>No</td>\n",
       "      <td>4.1</td>\n",
       "      <td>787.0</td>\n",
       "      <td>080 41714161</td>\n",
       "      <td>Banashankari</td>\n",
       "      <td>Casual Dining</td>\n",
       "      <td>Momos, Lunch Buffet, Chocolate Nirvana, Thai G...</td>\n",
       "      <td>North Indian Chinese Thai and Tibetian</td>\n",
       "      <td>800.0</td>\n",
       "      <td>[('Rated 4.0', 'RATED\\n  Had been here for din...</td>\n",
       "      <td>[]</td>\n",
       "      <td>Buffet</td>\n",
       "      <td>Banashankari</td>\n",
       "      <td>0.206022</td>\n",
       "      <td>had been here for dinner with family turned ou...</td>\n",
       "    </tr>\n",
       "    <tr>\n",
       "      <th>2</th>\n",
       "      <td>https://www.zomato.com/SanchurroBangalore?cont...</td>\n",
       "      <td>1112, Next to KIMS Medical College, 17th Cross...</td>\n",
       "      <td>San Churro Cafe</td>\n",
       "      <td>Yes</td>\n",
       "      <td>No</td>\n",
       "      <td>3.8</td>\n",
       "      <td>918.0</td>\n",
       "      <td>+91 9663487993</td>\n",
       "      <td>Banashankari</td>\n",
       "      <td>Cafe, Casual Dining</td>\n",
       "      <td>Churros, Cannelloni, Minestrone Soup, Hot Choc...</td>\n",
       "      <td>International Pizza Fast Food</td>\n",
       "      <td>800.0</td>\n",
       "      <td>[('Rated 3.0', \"RATED\\n  Ambience is not that ...</td>\n",
       "      <td>[]</td>\n",
       "      <td>Buffet</td>\n",
       "      <td>Banashankari</td>\n",
       "      <td>0.199841</td>\n",
       "      <td>ambience is not that good enough and it s not ...</td>\n",
       "    </tr>\n",
       "    <tr>\n",
       "      <th>3</th>\n",
       "      <td>https://www.zomato.com/bangalore/addhuri-udupi...</td>\n",
       "      <td>1st Floor, Annakuteera, 3rd Stage, Banashankar...</td>\n",
       "      <td>Addhuri Udupi Bhojana</td>\n",
       "      <td>No</td>\n",
       "      <td>No</td>\n",
       "      <td>3.7</td>\n",
       "      <td>88.0</td>\n",
       "      <td>+91 9620009302</td>\n",
       "      <td>Banashankari</td>\n",
       "      <td>Quick Bites</td>\n",
       "      <td>Masala Dosa</td>\n",
       "      <td>North Indian South Indian</td>\n",
       "      <td>300.0</td>\n",
       "      <td>[('Rated 4.0', \"RATED\\n  Great food and proper...</td>\n",
       "      <td>[]</td>\n",
       "      <td>Buffet</td>\n",
       "      <td>Banashankari</td>\n",
       "      <td>0.245714</td>\n",
       "      <td>great food and proper karnataka style full mea...</td>\n",
       "    </tr>\n",
       "    <tr>\n",
       "      <th>4</th>\n",
       "      <td>https://www.zomato.com/bangalore/grand-village...</td>\n",
       "      <td>10, 3rd Floor, Lakshmi Associates, Gandhi Baza...</td>\n",
       "      <td>Grand Village</td>\n",
       "      <td>No</td>\n",
       "      <td>No</td>\n",
       "      <td>3.8</td>\n",
       "      <td>166.0</td>\n",
       "      <td>+91 8026612447\\r\\n+91 9901210005</td>\n",
       "      <td>Basavanagudi</td>\n",
       "      <td>Casual Dining</td>\n",
       "      <td>Panipuri, Gol Gappe</td>\n",
       "      <td>North Indian Western Indian</td>\n",
       "      <td>600.0</td>\n",
       "      <td>[('Rated 4.0', 'RATED\\n  Very good restaurant ...</td>\n",
       "      <td>[]</td>\n",
       "      <td>Buffet</td>\n",
       "      <td>Banashankari</td>\n",
       "      <td>0.434280</td>\n",
       "      <td>very good restaurant in neighbourhood buffet s...</td>\n",
       "    </tr>\n",
       "    <tr>\n",
       "      <th>...</th>\n",
       "      <td>...</td>\n",
       "      <td>...</td>\n",
       "      <td>...</td>\n",
       "      <td>...</td>\n",
       "      <td>...</td>\n",
       "      <td>...</td>\n",
       "      <td>...</td>\n",
       "      <td>...</td>\n",
       "      <td>...</td>\n",
       "      <td>...</td>\n",
       "      <td>...</td>\n",
       "      <td>...</td>\n",
       "      <td>...</td>\n",
       "      <td>...</td>\n",
       "      <td>...</td>\n",
       "      <td>...</td>\n",
       "      <td>...</td>\n",
       "      <td>...</td>\n",
       "      <td>...</td>\n",
       "    </tr>\n",
       "    <tr>\n",
       "      <th>51712</th>\n",
       "      <td>https://www.zomato.com/bangalore/best-brews-fo...</td>\n",
       "      <td>Four Points by Sheraton Bengaluru, 43/3, White...</td>\n",
       "      <td>Best Brews - Four Points by Sheraton Bengaluru...</td>\n",
       "      <td>No</td>\n",
       "      <td>No</td>\n",
       "      <td>3.6</td>\n",
       "      <td>27.0</td>\n",
       "      <td>080 40301477</td>\n",
       "      <td>Whitefield</td>\n",
       "      <td>Bar</td>\n",
       "      <td>NaN</td>\n",
       "      <td>International</td>\n",
       "      <td>1500.0</td>\n",
       "      <td>[('Rated 5.0', \"RATED\\n  Food and service are ...</td>\n",
       "      <td>[]</td>\n",
       "      <td>Pubs and bars</td>\n",
       "      <td>Whitefield</td>\n",
       "      <td>0.372377</td>\n",
       "      <td>food and service are incomparably excellent th...</td>\n",
       "    </tr>\n",
       "    <tr>\n",
       "      <th>51713</th>\n",
       "      <td>https://www.zomato.com/bangalore/vinod-bar-and...</td>\n",
       "      <td>Number 10, Garudachar Palya, Mahadevapura, Whi...</td>\n",
       "      <td>Vinod Bar And Restaurant</td>\n",
       "      <td>No</td>\n",
       "      <td>No</td>\n",
       "      <td>0.0</td>\n",
       "      <td>0.0</td>\n",
       "      <td>+91 8197675843</td>\n",
       "      <td>Whitefield</td>\n",
       "      <td>Bar</td>\n",
       "      <td>NaN</td>\n",
       "      <td>Fast Food</td>\n",
       "      <td>600.0</td>\n",
       "      <td>[]</td>\n",
       "      <td>[]</td>\n",
       "      <td>Pubs and bars</td>\n",
       "      <td>Whitefield</td>\n",
       "      <td>0.000000</td>\n",
       "      <td>NaN</td>\n",
       "    </tr>\n",
       "    <tr>\n",
       "      <th>51714</th>\n",
       "      <td>https://www.zomato.com/bangalore/plunge-sherat...</td>\n",
       "      <td>Sheraton Grand Bengaluru Whitefield Hotel &amp; Co...</td>\n",
       "      <td>Plunge - Sheraton Grand Bengaluru Whitefield H...</td>\n",
       "      <td>No</td>\n",
       "      <td>No</td>\n",
       "      <td>0.0</td>\n",
       "      <td>0.0</td>\n",
       "      <td>NaN</td>\n",
       "      <td>Whitefield</td>\n",
       "      <td>Bar</td>\n",
       "      <td>NaN</td>\n",
       "      <td>Fast Food</td>\n",
       "      <td>2000.0</td>\n",
       "      <td>[]</td>\n",
       "      <td>[]</td>\n",
       "      <td>Pubs and bars</td>\n",
       "      <td>Whitefield</td>\n",
       "      <td>0.000000</td>\n",
       "      <td>NaN</td>\n",
       "    </tr>\n",
       "    <tr>\n",
       "      <th>51715</th>\n",
       "      <td>https://www.zomato.com/bangalore/chime-sherato...</td>\n",
       "      <td>Sheraton Grand Bengaluru Whitefield Hotel &amp; Co...</td>\n",
       "      <td>Chime - Sheraton Grand Bengaluru Whitefield Ho...</td>\n",
       "      <td>No</td>\n",
       "      <td>Yes</td>\n",
       "      <td>4.3</td>\n",
       "      <td>236.0</td>\n",
       "      <td>080 49652769</td>\n",
       "      <td>ITPL Main Road, Whitefield</td>\n",
       "      <td>Bar</td>\n",
       "      <td>Cocktails, Pizza, Buttermilk</td>\n",
       "      <td>Fast Food</td>\n",
       "      <td>2500.0</td>\n",
       "      <td>[('Rated 4.0', 'RATED\\n  Nice and friendly pla...</td>\n",
       "      <td>[]</td>\n",
       "      <td>Pubs and bars</td>\n",
       "      <td>Whitefield</td>\n",
       "      <td>0.298507</td>\n",
       "      <td>nice and friendly place and staff is awesome a...</td>\n",
       "    </tr>\n",
       "    <tr>\n",
       "      <th>51716</th>\n",
       "      <td>https://www.zomato.com/bangalore/the-nest-the-...</td>\n",
       "      <td>ITPL Main Road, KIADB Export Promotion Industr...</td>\n",
       "      <td>The Nest - The Den Bengaluru</td>\n",
       "      <td>No</td>\n",
       "      <td>No</td>\n",
       "      <td>3.4</td>\n",
       "      <td>13.0</td>\n",
       "      <td>+91 8071117272</td>\n",
       "      <td>ITPL Main Road, Whitefield</td>\n",
       "      <td>Bar, Casual Dining</td>\n",
       "      <td>NaN</td>\n",
       "      <td>International North Indian Fast Food</td>\n",
       "      <td>1500.0</td>\n",
       "      <td>[('Rated 5.0', 'RATED\\n  Great ambience , look...</td>\n",
       "      <td>[]</td>\n",
       "      <td>Pubs and bars</td>\n",
       "      <td>Whitefield</td>\n",
       "      <td>0.554092</td>\n",
       "      <td>great ambience looking nice good selection of ...</td>\n",
       "    </tr>\n",
       "  </tbody>\n",
       "</table>\n",
       "<p>51717 rows × 19 columns</p>\n",
       "</div>"
      ],
      "text/plain": [
       "                                                     url  \\\n",
       "0      https://www.zomato.com/bangalore/jalsa-banasha...   \n",
       "1      https://www.zomato.com/bangalore/spice-elephan...   \n",
       "2      https://www.zomato.com/SanchurroBangalore?cont...   \n",
       "3      https://www.zomato.com/bangalore/addhuri-udupi...   \n",
       "4      https://www.zomato.com/bangalore/grand-village...   \n",
       "...                                                  ...   \n",
       "51712  https://www.zomato.com/bangalore/best-brews-fo...   \n",
       "51713  https://www.zomato.com/bangalore/vinod-bar-and...   \n",
       "51714  https://www.zomato.com/bangalore/plunge-sherat...   \n",
       "51715  https://www.zomato.com/bangalore/chime-sherato...   \n",
       "51716  https://www.zomato.com/bangalore/the-nest-the-...   \n",
       "\n",
       "                                                 address  \\\n",
       "0      942, 21st Main Road, 2nd Stage, Banashankari, ...   \n",
       "1      2nd Floor, 80 Feet Road, Near Big Bazaar, 6th ...   \n",
       "2      1112, Next to KIMS Medical College, 17th Cross...   \n",
       "3      1st Floor, Annakuteera, 3rd Stage, Banashankar...   \n",
       "4      10, 3rd Floor, Lakshmi Associates, Gandhi Baza...   \n",
       "...                                                  ...   \n",
       "51712  Four Points by Sheraton Bengaluru, 43/3, White...   \n",
       "51713  Number 10, Garudachar Palya, Mahadevapura, Whi...   \n",
       "51714  Sheraton Grand Bengaluru Whitefield Hotel & Co...   \n",
       "51715  Sheraton Grand Bengaluru Whitefield Hotel & Co...   \n",
       "51716  ITPL Main Road, KIADB Export Promotion Industr...   \n",
       "\n",
       "                                                    name online_order  \\\n",
       "0                                                  Jalsa          Yes   \n",
       "1                                         Spice Elephant          Yes   \n",
       "2                                        San Churro Cafe          Yes   \n",
       "3                                  Addhuri Udupi Bhojana           No   \n",
       "4                                          Grand Village           No   \n",
       "...                                                  ...          ...   \n",
       "51712  Best Brews - Four Points by Sheraton Bengaluru...           No   \n",
       "51713                           Vinod Bar And Restaurant           No   \n",
       "51714  Plunge - Sheraton Grand Bengaluru Whitefield H...           No   \n",
       "51715  Chime - Sheraton Grand Bengaluru Whitefield Ho...           No   \n",
       "51716                       The Nest - The Den Bengaluru           No   \n",
       "\n",
       "      book_table  rate  votes                             phone  \\\n",
       "0            Yes   4.1  775.0    080 42297555\\r\\n+91 9743772233   \n",
       "1             No   4.1  787.0                      080 41714161   \n",
       "2             No   3.8  918.0                    +91 9663487993   \n",
       "3             No   3.7   88.0                    +91 9620009302   \n",
       "4             No   3.8  166.0  +91 8026612447\\r\\n+91 9901210005   \n",
       "...          ...   ...    ...                               ...   \n",
       "51712         No   3.6   27.0                      080 40301477   \n",
       "51713         No   0.0    0.0                    +91 8197675843   \n",
       "51714         No   0.0    0.0                               NaN   \n",
       "51715        Yes   4.3  236.0                      080 49652769   \n",
       "51716         No   3.4   13.0                    +91 8071117272   \n",
       "\n",
       "                         location            rest_type  \\\n",
       "0                    Banashankari        Casual Dining   \n",
       "1                    Banashankari        Casual Dining   \n",
       "2                    Banashankari  Cafe, Casual Dining   \n",
       "3                    Banashankari          Quick Bites   \n",
       "4                    Basavanagudi        Casual Dining   \n",
       "...                           ...                  ...   \n",
       "51712                  Whitefield                  Bar   \n",
       "51713                  Whitefield                  Bar   \n",
       "51714                  Whitefield                  Bar   \n",
       "51715  ITPL Main Road, Whitefield                  Bar   \n",
       "51716  ITPL Main Road, Whitefield   Bar, Casual Dining   \n",
       "\n",
       "                                              dish_liked  \\\n",
       "0      Pasta, Lunch Buffet, Masala Papad, Paneer Laja...   \n",
       "1      Momos, Lunch Buffet, Chocolate Nirvana, Thai G...   \n",
       "2      Churros, Cannelloni, Minestrone Soup, Hot Choc...   \n",
       "3                                            Masala Dosa   \n",
       "4                                    Panipuri, Gol Gappe   \n",
       "...                                                  ...   \n",
       "51712                                                NaN   \n",
       "51713                                                NaN   \n",
       "51714                                                NaN   \n",
       "51715                       Cocktails, Pizza, Buttermilk   \n",
       "51716                                                NaN   \n",
       "\n",
       "                                     cuisines  approx_cost(for two people)  \\\n",
       "0                North Indian Chinese Afghani                        800.0   \n",
       "1      North Indian Chinese Thai and Tibetian                        800.0   \n",
       "2               International Pizza Fast Food                        800.0   \n",
       "3                   North Indian South Indian                        300.0   \n",
       "4                 North Indian Western Indian                        600.0   \n",
       "...                                       ...                          ...   \n",
       "51712                           International                       1500.0   \n",
       "51713                               Fast Food                        600.0   \n",
       "51714                               Fast Food                       2000.0   \n",
       "51715                               Fast Food                       2500.0   \n",
       "51716    International North Indian Fast Food                       1500.0   \n",
       "\n",
       "                                            reviews_list menu_item  \\\n",
       "0      [('Rated 4.0', 'RATED\\n  A beautiful place to ...        []   \n",
       "1      [('Rated 4.0', 'RATED\\n  Had been here for din...        []   \n",
       "2      [('Rated 3.0', \"RATED\\n  Ambience is not that ...        []   \n",
       "3      [('Rated 4.0', \"RATED\\n  Great food and proper...        []   \n",
       "4      [('Rated 4.0', 'RATED\\n  Very good restaurant ...        []   \n",
       "...                                                  ...       ...   \n",
       "51712  [('Rated 5.0', \"RATED\\n  Food and service are ...        []   \n",
       "51713                                                 []        []   \n",
       "51714                                                 []        []   \n",
       "51715  [('Rated 4.0', 'RATED\\n  Nice and friendly pla...        []   \n",
       "51716  [('Rated 5.0', 'RATED\\n  Great ambience , look...        []   \n",
       "\n",
       "      listed_in(type) listed_in(city)  Sentiment_score  \\\n",
       "0              Buffet    Banashankari         0.350449   \n",
       "1              Buffet    Banashankari         0.206022   \n",
       "2              Buffet    Banashankari         0.199841   \n",
       "3              Buffet    Banashankari         0.245714   \n",
       "4              Buffet    Banashankari         0.434280   \n",
       "...               ...             ...              ...   \n",
       "51712   Pubs and bars      Whitefield         0.372377   \n",
       "51713   Pubs and bars      Whitefield         0.000000   \n",
       "51714   Pubs and bars      Whitefield         0.000000   \n",
       "51715   Pubs and bars      Whitefield         0.298507   \n",
       "51716   Pubs and bars      Whitefield         0.554092   \n",
       "\n",
       "                                         cleaned_reviews  \n",
       "0      a beautiful place to dine in the interiors tak...  \n",
       "1      had been here for dinner with family turned ou...  \n",
       "2      ambience is not that good enough and it s not ...  \n",
       "3      great food and proper karnataka style full mea...  \n",
       "4      very good restaurant in neighbourhood buffet s...  \n",
       "...                                                  ...  \n",
       "51712  food and service are incomparably excellent th...  \n",
       "51713                                                NaN  \n",
       "51714                                                NaN  \n",
       "51715  nice and friendly place and staff is awesome a...  \n",
       "51716  great ambience looking nice good selection of ...  \n",
       "\n",
       "[51717 rows x 19 columns]"
      ]
     },
     "execution_count": 33,
     "metadata": {},
     "output_type": "execute_result"
    }
   ],
   "source": [
    "data"
   ]
  },
  {
   "cell_type": "markdown",
   "metadata": {},
   "source": [
    "### Droping Duplicated restaurants"
   ]
  },
  {
   "cell_type": "code",
   "execution_count": 34,
   "metadata": {
    "execution": {
     "iopub.execute_input": "2022-06-13T11:10:35.787270Z",
     "iopub.status.busy": "2022-06-13T11:10:35.786907Z",
     "iopub.status.idle": "2022-06-13T11:10:35.827190Z",
     "shell.execute_reply": "2022-06-13T11:10:35.826319Z",
     "shell.execute_reply.started": "2022-06-13T11:10:35.787225Z"
    }
   },
   "outputs": [],
   "source": [
    "data.drop_duplicates(subset=['address'], keep='first', inplace=True)\n",
    "data.reset_index(drop=True,inplace=True)"
   ]
  },
  {
   "cell_type": "markdown",
   "metadata": {},
   "source": [
    "### Metric for ranking Restaurants\n",
    "\n",
    "We will use :\n",
    "* Sentiment Score\n",
    "* average Rating of Restaurant \n",
    "* number of votes \n",
    "\n",
    "Lets give equal weightage to these features for now and see the results"
   ]
  },
  {
   "cell_type": "code",
   "execution_count": 35,
   "metadata": {
    "execution": {
     "iopub.execute_input": "2022-06-13T11:10:35.828960Z",
     "iopub.status.busy": "2022-06-13T11:10:35.828637Z",
     "iopub.status.idle": "2022-06-13T11:10:35.908930Z",
     "shell.execute_reply": "2022-06-13T11:10:35.908243Z",
     "shell.execute_reply.started": "2022-06-13T11:10:35.828917Z"
    }
   },
   "outputs": [],
   "source": [
    "from sklearn.preprocessing import MinMaxScaler\n",
    "\n",
    "scaled_rating=MinMaxScaler().fit_transform(data[['rate']])\n",
    "scaled_votes=MinMaxScaler().fit_transform(data[['votes']])"
   ]
  },
  {
   "cell_type": "code",
   "execution_count": 36,
   "metadata": {
    "execution": {
     "iopub.execute_input": "2022-06-13T11:10:35.910794Z",
     "iopub.status.busy": "2022-06-13T11:10:35.909835Z",
     "iopub.status.idle": "2022-06-13T11:10:35.915520Z",
     "shell.execute_reply": "2022-06-13T11:10:35.914574Z",
     "shell.execute_reply.started": "2022-06-13T11:10:35.910758Z"
    }
   },
   "outputs": [],
   "source": [
    "data['scaled_rating']=scaled_rating\n",
    "data['scaled_votes']=scaled_votes"
   ]
  },
  {
   "cell_type": "code",
   "execution_count": 37,
   "metadata": {
    "execution": {
     "iopub.execute_input": "2022-06-13T11:10:35.917489Z",
     "iopub.status.busy": "2022-06-13T11:10:35.917095Z",
     "iopub.status.idle": "2022-06-13T11:10:35.930746Z",
     "shell.execute_reply": "2022-06-13T11:10:35.930058Z",
     "shell.execute_reply.started": "2022-06-13T11:10:35.917418Z"
    }
   },
   "outputs": [],
   "source": [
    "data['Metric']=(data.Sentiment_score + data.scaled_rating + data.scaled_votes)/3"
   ]
  },
  {
   "cell_type": "markdown",
   "metadata": {},
   "source": [
    "# Recommending Restaurants"
   ]
  },
  {
   "cell_type": "markdown",
   "metadata": {},
   "source": [
    "Asking user for his preferences"
   ]
  },
  {
   "cell_type": "code",
   "execution_count": 38,
   "metadata": {
    "execution": {
     "iopub.execute_input": "2022-06-13T11:10:35.932663Z",
     "iopub.status.busy": "2022-06-13T11:10:35.932138Z",
     "iopub.status.idle": "2022-06-13T11:10:35.945132Z",
     "shell.execute_reply": "2022-06-13T11:10:35.944381Z",
     "shell.execute_reply.started": "2022-06-13T11:10:35.932612Z"
    }
   },
   "outputs": [],
   "source": [
    "def recommender(input_location,input_cuisine,input_cost):\n",
    "    filtered_df=data.loc[(data.location==input_location) & (data.cuisines.str.contains(input_cuisine)) & (data['approx_cost(for two people)']<=input_cost)  & (data.votes>50)]\n",
    "    return(filtered_df.sort_values('Metric',ascending=False).head())\n"
   ]
  },
  {
   "cell_type": "code",
   "execution_count": 39,
   "metadata": {
    "execution": {
     "iopub.execute_input": "2022-06-13T11:10:35.946920Z",
     "iopub.status.busy": "2022-06-13T11:10:35.946491Z",
     "iopub.status.idle": "2022-06-13T11:10:35.959702Z",
     "shell.execute_reply": "2022-06-13T11:10:35.958849Z",
     "shell.execute_reply.started": "2022-06-13T11:10:35.946886Z"
    }
   },
   "outputs": [],
   "source": [
    "pd.set_option('display.max_columns', None)"
   ]
  },
  {
   "cell_type": "markdown",
   "metadata": {},
   "source": [
    "## Creating GUI for the Recommendation System"
   ]
  },
  {
   "cell_type": "code",
   "execution_count": 41,
   "metadata": {
    "execution": {
     "iopub.execute_input": "2022-06-13T11:10:35.975178Z",
     "iopub.status.busy": "2022-06-13T11:10:35.974661Z",
     "iopub.status.idle": "2022-06-13T11:10:36.027990Z",
     "shell.execute_reply": "2022-06-13T11:10:36.027198Z",
     "shell.execute_reply.started": "2022-06-13T11:10:35.975142Z"
    }
   },
   "outputs": [],
   "source": [
    "from tkinter import *\n",
    "from tkinter import ttk"
   ]
  },
  {
   "cell_type": "code",
   "execution_count": 59,
   "metadata": {
    "execution": {
     "iopub.execute_input": "2022-06-13T11:10:36.030312Z",
     "iopub.status.busy": "2022-06-13T11:10:36.030015Z",
     "iopub.status.idle": "2022-06-13T11:10:36.184391Z",
     "shell.execute_reply": "2022-06-13T11:10:36.183109Z",
     "shell.execute_reply.started": "2022-06-13T11:10:36.030279Z"
    }
   },
   "outputs": [
    {
     "name": "stdout",
     "output_type": "stream",
     "text": [
      "Kumaraswamy Layout\n",
      "Afghani\n",
      "600\n"
     ]
    }
   ],
   "source": [
    "root=Tk()\n",
    "root.title('Restaurant Recommendation')\n",
    "root.geometry('500x500')\n",
    "\n",
    "\n",
    "options1=['location','Banashankari', 'Basavanagudi', 'Mysore Road', 'Jayanagar',\n",
    "       'Kumaraswamy Layout', 'Rajarajeshwari Nagar', 'Vijay Nagar',\n",
    "       'Uttarahalli', 'JP Nagar', 'South Bangalore', 'City Market',\n",
    "       'Nagarbhavi', 'Bannerghatta Road', 'BTM', 'Kanakapura Road',\n",
    "       'Bommanahalli', 'CV Raman Nagar', 'Electronic City', 'HSR',\n",
    "       'Marathahalli', 'Sarjapur Road', 'Wilson Garden', 'Shanti Nagar',\n",
    "       'Koramangala 5th Block', 'Koramangala 8th Block', 'Richmond Road',\n",
    "       'Koramangala 7th Block', 'Jalahalli', 'Koramangala 4th Block',\n",
    "       'Bellandur', 'Whitefield', 'East Bangalore', 'Old Airport Road',\n",
    "       'Indiranagar', 'Koramangala 1st Block', 'Frazer Town', 'RT Nagar',\n",
    "       'MG Road', 'Brigade Road', 'Lavelle Road', 'Church Street',\n",
    "       'Ulsoor', 'Residency Road', 'Shivajinagar', 'Infantry Road',\n",
    "       'St. Marks Road', 'Cunningham Road', 'Race Course Road',\n",
    "       'Commercial Street', 'Vasanth Nagar', 'HBR Layout', 'Domlur',\n",
    "       'Ejipura', 'Jeevan Bhima Nagar', 'Old Madras Road', 'Malleshwaram',\n",
    "       'Seshadripuram', 'Kammanahalli', 'Koramangala 6th Block',\n",
    "       'Majestic', 'Langford Town', 'Central Bangalore', 'Sanjay Nagar',\n",
    "       'Brookefield', 'ITPL Main Road, Whitefield',\n",
    "       'Varthur Main Road, Whitefield', 'KR Puram',\n",
    "       'Koramangala 2nd Block', 'Koramangala 3rd Block', 'Koramangala',\n",
    "       'Hosur Road', 'Rajajinagar', 'Banaswadi', 'North Bangalore',\n",
    "       'Nagawara', 'Hennur', 'Kalyan Nagar', 'New BEL Road', 'Jakkur',\n",
    "       'Rammurthy Nagar', 'Thippasandra', 'Kaggadasapura', 'Hebbal',\n",
    "       'Kengeri', 'Sankey Road', 'Sadashiv Nagar', 'Basaveshwara Nagar',\n",
    "       'Yeshwantpur', 'West Bangalore', 'Magadi Road', 'Yelahanka',\n",
    "       'Sahakara Nagar', 'Peenya']\n",
    "\n",
    "options2=['Cuisine','Afghani',\n",
    "'Western',\n",
    "'Thai and Tibetian',\n",
    "'Beverages',\n",
    "'South Indian',\n",
    "'Fast Food',\n",
    "'Desserts',\n",
    "'Chicken, Biryani and Kababs',\n",
    "'Bengali',\n",
    "'Pizza',\n",
    "'International',\n",
    "'North Indian',\n",
    "'Chinese',\n",
    "'Western Indian Cuisines',\n",
    "'Maharastrian food',\n",
    "'North Eastern',\n",
    "'Seafood']\n",
    "\n",
    "options3=['Cost for two',200,400,600,800,1000,1200,1500,1800,2000,2500,3000,3500,4000,4500,5000,5500,6000]\n",
    "\n",
    "frame = Frame(root)\n",
    "frame.pack()\n",
    "\n",
    "def comboclick(event):\n",
    "    global a\n",
    "    myLabel=Label(root, text=mycombo.get()).pack()\n",
    "    a=mycombo.get()\n",
    "    \n",
    "def comboclick2(event):\n",
    "    global b\n",
    "    myLabel=Label(root, text=mycombo2.get()).pack()\n",
    "    b=mycombo2.get()\n",
    "    \n",
    "def comboclick3(event):\n",
    "    global c\n",
    "    myLabel=Label(root, text=mycombo3.get()).pack()\n",
    "    c=float(mycombo3.get())\n",
    "    \n",
    "\n",
    "mycombo=ttk.Combobox(root, value=options1)\n",
    "mycombo.current(0)\n",
    "mycombo.bind('<<ComboboxSelected>>',comboclick)\n",
    "mycombo.place(x=10, y=10)\n",
    "\n",
    "mycombo2=ttk.Combobox(root, value=options2)\n",
    "mycombo2.current(0)\n",
    "mycombo2.bind('<<ComboboxSelected>>',comboclick2)\n",
    "mycombo2.pack()\n",
    "mycombo2.place(x=180, y=10)\n",
    "\n",
    "mycombo3=ttk.Combobox(root, value=options3)\n",
    "mycombo3.current(0)\n",
    "mycombo3.bind('<<ComboboxSelected>>',comboclick3)\n",
    "mycombo3.pack()\n",
    "mycombo3.place(x=350, y=10)\n",
    "\n",
    "def retrieve1():\n",
    "    print(mycombo.get())\n",
    "    \n",
    "\n",
    "def retrieve2():\n",
    "    print(mycombo2.get())\n",
    "\n",
    "\n",
    "def retrieve3():\n",
    "    print(mycombo3.get())\n",
    "     \n",
    "Button1 = Button(frame, text = \"Submit\", command = retrieve1)\n",
    "Button1.pack(side=LEFT,padx=10,pady=50)\n",
    "\n",
    "\n",
    "\n",
    "Button2 = Button(frame, text = \"Submit\", command = retrieve2)\n",
    "Button2.pack(side=LEFT,padx=120,pady=50)\n",
    "\n",
    "\n",
    "Button3 = Button(frame, text = \"Submit\", command = retrieve3)\n",
    "Button3.pack(side=RIGHT,padx=20,pady=50)\n",
    "\n",
    "\n",
    "\n",
    "root.mainloop()\n"
   ]
  },
  {
   "cell_type": "code",
   "execution_count": 60,
   "metadata": {
    "execution": {
     "iopub.status.busy": "2022-06-13T11:10:36.185410Z",
     "iopub.status.idle": "2022-06-13T11:10:36.185735Z",
     "shell.execute_reply": "2022-06-13T11:10:36.185585Z",
     "shell.execute_reply.started": "2022-06-13T11:10:36.185568Z"
    }
   },
   "outputs": [
    {
     "data": {
      "text/html": [
       "<div>\n",
       "<style scoped>\n",
       "    .dataframe tbody tr th:only-of-type {\n",
       "        vertical-align: middle;\n",
       "    }\n",
       "\n",
       "    .dataframe tbody tr th {\n",
       "        vertical-align: top;\n",
       "    }\n",
       "\n",
       "    .dataframe thead th {\n",
       "        text-align: right;\n",
       "    }\n",
       "</style>\n",
       "<table border=\"1\" class=\"dataframe\">\n",
       "  <thead>\n",
       "    <tr style=\"text-align: right;\">\n",
       "      <th></th>\n",
       "      <th>Name</th>\n",
       "      <th>rate</th>\n",
       "      <th>votes</th>\n",
       "      <th>reviews</th>\n",
       "      <th>location</th>\n",
       "      <th>Cost</th>\n",
       "      <th>Sentiment_score</th>\n",
       "      <th>Metric</th>\n",
       "    </tr>\n",
       "  </thead>\n",
       "  <tbody>\n",
       "    <tr>\n",
       "      <th>145</th>\n",
       "      <td>Roll N Rock</td>\n",
       "      <td>3.8</td>\n",
       "      <td>124.0</td>\n",
       "      <td>ordered paneer roll through zomato through the...</td>\n",
       "      <td>Kumaraswamy Layout</td>\n",
       "      <td>400.0</td>\n",
       "      <td>0.363725</td>\n",
       "      <td>0.382274</td>\n",
       "    </tr>\n",
       "  </tbody>\n",
       "</table>\n",
       "</div>"
      ],
      "text/plain": [
       "            Name  rate  votes  \\\n",
       "145  Roll N Rock   3.8  124.0   \n",
       "\n",
       "                                               reviews            location  \\\n",
       "145  ordered paneer roll through zomato through the...  Kumaraswamy Layout   \n",
       "\n",
       "      Cost  Sentiment_score    Metric  \n",
       "145  400.0         0.363725  0.382274  "
      ]
     },
     "execution_count": 60,
     "metadata": {},
     "output_type": "execute_result"
    }
   ],
   "source": [
    "input_location=a\n",
    "input_cuisine=b\n",
    "input_cost=c\n",
    "Final_recommendations=recommender(input_location,input_cuisine,input_cost)\n",
    "Final_recommendations[['name','rate','votes','cleaned_reviews','location','approx_cost(for two people)','Sentiment_score','Metric']].rename(columns={'approx_cost(for two people)': 'Cost','cleaned_reviews': 'reviews','name':'Name'})"
   ]
  },
  {
   "cell_type": "code",
   "execution_count": 63,
   "metadata": {
    "execution": {
     "iopub.status.busy": "2022-06-13T11:10:36.187143Z",
     "iopub.status.idle": "2022-06-13T11:10:36.187475Z",
     "shell.execute_reply": "2022-06-13T11:10:36.187328Z",
     "shell.execute_reply.started": "2022-06-13T11:10:36.187311Z"
    }
   },
   "outputs": [
    {
     "data": {
      "text/plain": [
       "'ordered paneer roll through zomato through these guys well i wouldn t say i was completely satisfied n neither would i say i was dissatisfied just a feeling of could have been better paneer was soft n nice n the paratha was aptly cooked i kind of felt let down by the filling may be the masala this has a tangy taste which is good but not as good as the red masala i had requested the to make it spicy n it wasn t overall it was an average fare n not much to complain about like i said earlier this could have been lot better might order other rolls in the future great place to have fried rice and rolls at a reasonable place quick to serve and take away no place to sit and devour the dish but always a nice place to visit for takeaway'"
      ]
     },
     "execution_count": 63,
     "metadata": {},
     "output_type": "execute_result"
    }
   ],
   "source": [
    "data.cleaned_reviews[145]"
   ]
  }
 ],
 "metadata": {
  "kernelspec": {
   "display_name": "Python 3",
   "language": "python",
   "name": "python3"
  },
  "language_info": {
   "codemirror_mode": {
    "name": "ipython",
    "version": 3
   },
   "file_extension": ".py",
   "mimetype": "text/x-python",
   "name": "python",
   "nbconvert_exporter": "python",
   "pygments_lexer": "ipython3",
   "version": "3.8.8"
  }
 },
 "nbformat": 4,
 "nbformat_minor": 4
}
